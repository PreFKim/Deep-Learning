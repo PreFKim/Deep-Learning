{
 "cells": [
  {
   "cell_type": "code",
   "execution_count": 1,
   "metadata": {},
   "outputs": [],
   "source": [
    "import tensorflow as tf\n",
    "import numpy as np\n",
    "import cv2"
   ]
  },
  {
   "cell_type": "code",
   "execution_count": 2,
   "metadata": {},
   "outputs": [],
   "source": [
    "model = tf.keras.models.load_model(f\"./Best1.h5\")"
   ]
  },
  {
   "cell_type": "code",
   "execution_count": 5,
   "metadata": {},
   "outputs": [],
   "source": [
    "c =[[0,0,0],\n",
    "    [0,0,255],\n",
    "    [127,127,127],\n",
    "    [255,255,255],\n",
    "    [255,0,0]]\n",
    "def applycolor(img,color):\n",
    "  #클래스 이미지에 색 적용\n",
    "  h,w,c = img.shape\n",
    "\n",
    "  for i in range(h):\n",
    "    for j in range(w):\n",
    "      for k in range(c):\n",
    "        img[i,j,k] = color[img[i,j,k]][k]\n",
    "\n",
    "  return img"
   ]
  },
  {
   "cell_type": "code",
   "execution_count": 6,
   "metadata": {},
   "outputs": [],
   "source": [
    "\n",
    "cap = cv2.VideoCapture(0)\n",
    "\n",
    "if cap.isOpened():\n",
    "    while True:\n",
    "        ret, img = cap.read()\n",
    "        original_size = img.shape\n",
    "\n",
    "        cp_img = cv2.resize(img,(480,320))\n",
    "        cp_img = cv2.cvtColor(cp_img,cv2.COLOR_RGB2BGR)\n",
    "        cp_img = cp_img / 255.0\n",
    "        cp_img = np.expand_dims(cp_img,0)\n",
    "\n",
    "        p = model.predict(cp_img,verbose=0)\n",
    "        p = p[0]\n",
    "        p = np.argmax(p,-1)\n",
    "        p = np.expand_dims(p,-1)\n",
    "        p = np.concatenate([p,p,p],-1)\n",
    "        p = applycolor(p,c)\n",
    "        p = p.astype(np.float32)\n",
    "        p = cv2.resize(p,(original_size[1],original_size[0]),interpolation=cv2.INTER_LINEAR)\n",
    "\n",
    "        result = cv2.addWeighted(img.astype(np.uint8), 1, p.astype(np.uint8), 0.5,0)\n",
    "\n",
    "        if ret:\n",
    "            cv2.imshow(\"camera\",result)\n",
    "            if cv2.waitKey(1) != -1:\n",
    "                break\n",
    "        else:\n",
    "            print(\"no fram\")\n",
    "            break\n",
    "else:\n",
    "    print(\"can't open camera\")\n",
    "cap.release()\n",
    "cv2.destroyAllWindows()"
   ]
  }
 ],
 "metadata": {
  "kernelspec": {
   "display_name": "base",
   "language": "python",
   "name": "python3"
  },
  "language_info": {
   "codemirror_mode": {
    "name": "ipython",
    "version": 3
   },
   "file_extension": ".py",
   "mimetype": "text/x-python",
   "name": "python",
   "nbconvert_exporter": "python",
   "pygments_lexer": "ipython3",
   "version": "3.9.13"
  },
  "orig_nbformat": 4,
  "vscode": {
   "interpreter": {
    "hash": "49cb93f377a7abe7414b7b0f21fb3017538004a126cf690fb524202736b7fb92"
   }
  }
 },
 "nbformat": 4,
 "nbformat_minor": 2
}
